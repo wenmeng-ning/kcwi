{
 "cells": [
  {
   "cell_type": "markdown",
   "metadata": {},
   "source": [
    "## Locate Overlapping Pixels to Mosaic Datacubes"
   ]
  },
  {
   "cell_type": "markdown",
   "metadata": {},
   "source": [
    "This function locates overlapped pixels to help mosaic dithered exposures of the same source obtained under the same settings.<br /> <br />\n",
    "This is a helper method for Professor Rupke's code **ifsr_mosaic**, which can be found at:\n",
    "https://github.com/drupke/ifsred/blob/master/common/ifsr_mosaic.pro <br /><br />\n",
    "The routine, as default, uses the brightest pixel to account for the shifts. However, in cases where that pixel isn't fully captured, this method could help locate another shared pixel to indicate the dithering."
   ]
  },
  {
   "cell_type": "code",
   "execution_count": 1,
   "metadata": {},
   "outputs": [],
   "source": [
    "from astropy.wcs import WCS\n",
    "import astropy.io.fits as fits\n",
    "from pylab import *\n",
    "import matplotlib.patches as patches\n",
    "import numpy as np\n",
    "import random"
   ]
  },
  {
   "cell_type": "code",
   "execution_count": 2,
   "metadata": {},
   "outputs": [],
   "source": [
    "# Function: mosaic_vis\n",
    "# ----------------------------------------------------------------------------------------\n",
    "# This method locates overlapping pixels to help mosaic dithered exposures. It also makes a \n",
    "# plot in wcs(deg) to help visualize the location of each frame and how they overlap. \n",
    "# ----------------------------------------------------------------------------------------\n",
    "# Call:\n",
    "#    out = mosaic_vis(datacubes)\n",
    "# ----------------------------------------------------------------------------------------\n",
    "# Inputs:\n",
    "#   datacubes    String List    List of paths to the datacubes to be mosaiced\n",
    "# ----------------------------------------------------------------------------------------\n",
    "# Outputs:\n",
    "#   out          Structure      The out structure contains \n",
    "#                           (1). out.wcs_info[0][:,:,i]:  range in wcs(deg) for datacube i\n",
    "#                           (2). out.overlap[0]:          range in wcs(deg) of the overlap region\n",
    "#                           (3). out.pix_loc[0]:          central pixel of the overlap region\n",
    "# ----------------------------------------------------------------------------------------\n",
    "# Notes:\n",
    "# 1. The pixel location returned is by default the central pixel of the overlapped region\n",
    "# 2. If the pixel location looks wierd, check the overlap region either in the plot or in out.overlap\n",
    "#    to make sure that there exists an overlap region.\n",
    "# ----------------------------------------------------------------------------------------\n",
    "# Updates: \n",
    "#    Apr 6, 2021  W.Ning  Created.\n",
    "# ----------------------------------------------------------------------------------------\n",
    "\n",
    "def mosaic_vis(datacubes):\n",
    "    num = np.shape(datacubes)[0]\n",
    "    wcs_info = np.zeros((2,2,num))\n",
    "    color = [\"#\"+''.join([random.choice('0123456789ABCDEF') for j in range(6)])\n",
    "             for i in range(num)]\n",
    "    overlap_x = [360,0]\n",
    "    overlap_y = [-90,90]\n",
    "    pix = np.zeros((num,2))\n",
    "    out = np.recarray((1,),dtype=[('wcs_info','O'),('overlap','O'),('pix_loc','O')])\n",
    "    \n",
    "    # Convert pixel location to wcs\n",
    "    for i in np.arange(num):\n",
    "        hdr = fits.getheader(datacubes[i])\n",
    "        w = WCS(hdr)\n",
    "        pix_x_tot = hdr['NAXIS2']\n",
    "        pix_y_tot = hdr['NAXIS1']\n",
    "        sky_x_start,sky_y_start,wav = w.pixel_to_world_values(0,0,1)\n",
    "        sky_x_end,sky_y_end,_ = w.pixel_to_world_values(pix_y_tot-1,pix_x_tot-1,1)\n",
    "        wcs_info[0,:,i] = [float(sky_x_start),float(sky_y_start)]\n",
    "        wcs_info[1,:,i] = [float(sky_x_end),float(sky_y_end)]\n",
    "        \n",
    "        # Find overlap\n",
    "        overlap_x = [np.min([overlap_x[0],float(sky_x_start)]),np.max([overlap_x[1],float(sky_x_end)])]\n",
    "        overlap_y = [np.max([overlap_y[0],float(sky_y_start)]),np.min([overlap_y[1],float(sky_y_end)])]\n",
    "        \n",
    "    # Overlap\n",
    "    overlap = np.zeros((2,2))\n",
    "    overlap[0] = overlap_x\n",
    "    overlap[1] = overlap_y\n",
    "    \n",
    "    # Pixel to mosaic\n",
    "    for i in np.arange(num):\n",
    "        hdr = fits.getheader(datacubes[i])\n",
    "        w = WCS(hdr)\n",
    "        loc = w.world_to_pixel_values(np.mean(overlap_x),np.mean(overlap_y),wav)\n",
    "        pix[i] = [float(loc[1]),float(loc[0])]\n",
    "    \n",
    "    wcs_x_min = np.min(wcs_info[:,0,:])\n",
    "    wcs_x_max = np.max(wcs_info[:,0,:])\n",
    "    wcs_y_min = np.min(wcs_info[:,1,:])\n",
    "    wcs_y_max = np.max(wcs_info[:,1,:])\n",
    "    \n",
    "    wcs_arr_x = np.linspace(wcs_x_min,wcs_x_max)\n",
    "    wcs_arr_y = np.linspace(wcs_y_min,wcs_y_max)\n",
    "    \n",
    "    # Plot demo\n",
    "    fig,ax = plt.subplots(figsize = (16,16))\n",
    "    ax.plot(wcs_arr_x,wcs_arr_y,alpha=0)\n",
    "    ax.set_xlabel('ra',fontsize=14)\n",
    "    ax.set_ylabel('dec',fontsize=14)\n",
    "    ax.set_xlim(ax.get_xlim()[::-1])\n",
    "    ax.set_title('WCS Location Demo',fontsize=18)\n",
    "    \n",
    "    for i in np.arange(num):\n",
    "        width = wcs_info[1,0,i]-wcs_info[0,0,i]\n",
    "        height = wcs_info[1,1,i]-wcs_info[0,1,i]\n",
    "        #rec = patches.Rectangle(((wcs_info[0,0,i]-wcs_x_min)*scale,(wcs_info[0,1,i]-wcs_y_min)*scale),\n",
    "        #                       width*scale,height*scale,angle=0)\n",
    "        rec = patches.Rectangle((wcs_info[0,0,i],wcs_info[0,1,i]),width,height,angle=0,zorder=2,\n",
    "                                label='frame_{}'.format(i+1),color=color[i],alpha=0.5)\n",
    "        label='frame_{}'.format(i+1)\n",
    "        ax.add_patch(rec)\n",
    "        ax.annotate(label,xy=(wcs_info[0,0,i]+0.45*width,wcs_info[0,1,i]+0.5*height),fontsize=14)\n",
    "    \n",
    "    rec = patches.Rectangle((overlap_x[0],overlap_y[0]),overlap_x[1]-overlap_x[0],overlap_y[1]-overlap_y[0],angle=0,\n",
    "                           zorder=2, label = 'overlap', color='crimson',alpha=1)\n",
    "    ax.add_patch(rec)\n",
    "    \n",
    "    ax.legend(loc='upper left',fontsize=14)\n",
    "    \n",
    "    out.wcs_info[0] = wcs_info; out.overlap[0] = overlap; out.pix_loc[0] = pix;\n",
    "        \n",
    "    return out"
   ]
  },
  {
   "cell_type": "code",
   "execution_count": 3,
   "metadata": {},
   "outputs": [
    {
     "data": {
      "image/png": "[encoded data removed]",
      "text/plain": [
       "<Figure size 1152x1152 with 1 Axes>"
      ]
     },
     "metadata": {
      "needs_background": "light"
     },
     "output_type": "display_data"
    }
   ],
   "source": [
    "out = mosaic_vis([\"abell_1.fits\",\"abell_2.fits\",\"abell_3.fits\",\"abell_4.fits\"])"
   ]
  },
  {
   "cell_type": "code",
   "execution_count": 4,
   "metadata": {},
   "outputs": [
    {
     "data": {
      "text/plain": [
       "array([[[210.25945888, 210.25954431, 210.25720748, 210.25779362],\n",
       "        [  2.87382473,   2.87382636,   2.87549031,   2.87618692]],\n",
       "\n",
       "       [[210.25500977, 210.25509245, 210.25276021, 210.25334266],\n",
       "        [  2.87909074,   2.87908694,   2.88075994,   2.88144932]]])"
      ]
     },
     "execution_count": 4,
     "metadata": {},
     "output_type": "execute_result"
    }
   ],
   "source": [
    "# This records the range in wcs(deg) of each datacube\n",
    "out.wcs_info[0]"
   ]
  },
  {
   "cell_type": "code",
   "execution_count": 5,
   "metadata": {},
   "outputs": [
    {
     "data": {
      "text/plain": [
       "array([[210.25720748, 210.25509245],\n",
       "       [  2.87618692,   2.87908694]])"
      ]
     },
     "execution_count": 5,
     "metadata": {},
     "output_type": "execute_result"
    }
   ],
   "source": [
    "# This records the overlap range in wcs(deg) of all the exposures\n",
    "out.overlap[0]"
   ]
  },
  {
   "cell_type": "code",
   "execution_count": 6,
   "metadata": {},
   "outputs": [
    {
     "data": {
      "text/plain": [
       "array([[47.05428068, 40.9045136 ],\n",
       "       [47.08446757, 41.9355286 ],\n",
       "       [26.49335235, 13.08621352],\n",
       "       [17.91018226, 20.31050072]])"
      ]
     },
     "execution_count": 6,
     "metadata": {},
     "output_type": "execute_result"
    }
   ],
   "source": [
    "# This records the central pixel of the overlap region in each datacube\n",
    "out.pix_loc[0]"
   ]
  }
 ],
 "metadata": {
  "kernelspec": {
   "display_name": "Python 3",
   "language": "python",
   "name": "python3"
  },
  "language_info": {
   "codemirror_mode": {
    "name": "ipython",
    "version": 3
   },
   "file_extension": ".py",
   "mimetype": "text/x-python",
   "name": "python",
   "nbconvert_exporter": "python",
   "pygments_lexer": "ipython3",
   "version": "3.7.6"
  }
 },
 "nbformat": 4,
 "nbformat_minor": 4
}
